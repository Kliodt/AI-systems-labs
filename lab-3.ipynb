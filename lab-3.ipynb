{
 "cells": [
  {
   "cell_type": "markdown",
   "metadata": {},
   "source": [
    "# Лабораторная 3. Линейная регрессия"
   ]
  },
  {
   "cell_type": "markdown",
   "metadata": {},
   "source": [
    "- Выбор датасетов:\n",
    "  - датасет о жилье в Калифорнии - https://www.kaggle.com/datasets/camnugent/california-housing-prices"
   ]
  },
  {
   "cell_type": "markdown",
   "metadata": {},
   "source": [
    "- Получите и визуализируйте (графически) статистику по датасету (включая количество, среднее значение, стандартное отклонение, минимум, максимум и различные квантили)."
   ]
  },
  {
   "cell_type": "code",
   "execution_count": 15,
   "metadata": {},
   "outputs": [
    {
     "data": {
      "text/html": [
       "<div>\n",
       "<style scoped>\n",
       "    .dataframe tbody tr th:only-of-type {\n",
       "        vertical-align: middle;\n",
       "    }\n",
       "\n",
       "    .dataframe tbody tr th {\n",
       "        vertical-align: top;\n",
       "    }\n",
       "\n",
       "    .dataframe thead th {\n",
       "        text-align: right;\n",
       "    }\n",
       "</style>\n",
       "<table border=\"1\" class=\"dataframe\">\n",
       "  <thead>\n",
       "    <tr style=\"text-align: right;\">\n",
       "      <th></th>\n",
       "      <th>longitude</th>\n",
       "      <th>latitude</th>\n",
       "      <th>housing_median_age</th>\n",
       "      <th>total_rooms</th>\n",
       "      <th>total_bedrooms</th>\n",
       "      <th>population</th>\n",
       "      <th>households</th>\n",
       "      <th>median_income</th>\n",
       "      <th>median_house_value</th>\n",
       "    </tr>\n",
       "  </thead>\n",
       "  <tbody>\n",
       "    <tr>\n",
       "      <th>0</th>\n",
       "      <td>-114.31</td>\n",
       "      <td>34.19</td>\n",
       "      <td>15.0</td>\n",
       "      <td>5612.0</td>\n",
       "      <td>1283.0</td>\n",
       "      <td>1015.0</td>\n",
       "      <td>472.0</td>\n",
       "      <td>1.4936</td>\n",
       "      <td>66900.0</td>\n",
       "    </tr>\n",
       "    <tr>\n",
       "      <th>1</th>\n",
       "      <td>-114.47</td>\n",
       "      <td>34.40</td>\n",
       "      <td>19.0</td>\n",
       "      <td>7650.0</td>\n",
       "      <td>1901.0</td>\n",
       "      <td>1129.0</td>\n",
       "      <td>463.0</td>\n",
       "      <td>1.8200</td>\n",
       "      <td>80100.0</td>\n",
       "    </tr>\n",
       "    <tr>\n",
       "      <th>2</th>\n",
       "      <td>-114.56</td>\n",
       "      <td>33.69</td>\n",
       "      <td>17.0</td>\n",
       "      <td>720.0</td>\n",
       "      <td>174.0</td>\n",
       "      <td>333.0</td>\n",
       "      <td>117.0</td>\n",
       "      <td>1.6509</td>\n",
       "      <td>85700.0</td>\n",
       "    </tr>\n",
       "    <tr>\n",
       "      <th>3</th>\n",
       "      <td>-114.57</td>\n",
       "      <td>33.64</td>\n",
       "      <td>14.0</td>\n",
       "      <td>1501.0</td>\n",
       "      <td>337.0</td>\n",
       "      <td>515.0</td>\n",
       "      <td>226.0</td>\n",
       "      <td>3.1917</td>\n",
       "      <td>73400.0</td>\n",
       "    </tr>\n",
       "    <tr>\n",
       "      <th>4</th>\n",
       "      <td>-114.57</td>\n",
       "      <td>33.57</td>\n",
       "      <td>20.0</td>\n",
       "      <td>1454.0</td>\n",
       "      <td>326.0</td>\n",
       "      <td>624.0</td>\n",
       "      <td>262.0</td>\n",
       "      <td>1.9250</td>\n",
       "      <td>65500.0</td>\n",
       "    </tr>\n",
       "  </tbody>\n",
       "</table>\n",
       "</div>"
      ],
      "text/plain": [
       "   longitude  latitude  housing_median_age  total_rooms  total_bedrooms  \\\n",
       "0    -114.31     34.19                15.0       5612.0          1283.0   \n",
       "1    -114.47     34.40                19.0       7650.0          1901.0   \n",
       "2    -114.56     33.69                17.0        720.0           174.0   \n",
       "3    -114.57     33.64                14.0       1501.0           337.0   \n",
       "4    -114.57     33.57                20.0       1454.0           326.0   \n",
       "\n",
       "   population  households  median_income  median_house_value  \n",
       "0      1015.0       472.0         1.4936             66900.0  \n",
       "1      1129.0       463.0         1.8200             80100.0  \n",
       "2       333.0       117.0         1.6509             85700.0  \n",
       "3       515.0       226.0         3.1917             73400.0  \n",
       "4       624.0       262.0         1.9250             65500.0  "
      ]
     },
     "metadata": {},
     "output_type": "display_data"
    }
   ],
   "source": [
    "import csv\n",
    "import numpy as np\n",
    "import pandas as pd\n",
    "from random import shuffle\n",
    "\n",
    "with open(\"california_housing_train.csv\") as f:\n",
    "    data = list(csv.reader(f))\n",
    "\n",
    "# convert to float\n",
    "for i in range(1, len(data)):\n",
    "    data[i] = np.array(list(map(float, data[i])))\n",
    "\n",
    "df = pd.DataFrame(data[1:6], columns=data[0])\n",
    "display(df)\n",
    "\n",
    "headers = data[0]\n",
    "data = data[1:]\n",
    "shuffle(data)\n",
    "\n",
    "data = np.transpose(data) # записать данные по столбцам\n"
   ]
  },
  {
   "cell_type": "markdown",
   "metadata": {},
   "source": [
    "Количество строк:"
   ]
  },
  {
   "cell_type": "code",
   "execution_count": 16,
   "metadata": {},
   "outputs": [
    {
     "name": "stdout",
     "output_type": "stream",
     "text": [
      "17000\n"
     ]
    }
   ],
   "source": [
    "count = len(data[1])\n",
    "print(count)"
   ]
  },
  {
   "cell_type": "markdown",
   "metadata": {},
   "source": [
    "Средние значения:"
   ]
  },
  {
   "cell_type": "code",
   "execution_count": 17,
   "metadata": {},
   "outputs": [
    {
     "data": {
      "text/html": [
       "<div>\n",
       "<style scoped>\n",
       "    .dataframe tbody tr th:only-of-type {\n",
       "        vertical-align: middle;\n",
       "    }\n",
       "\n",
       "    .dataframe tbody tr th {\n",
       "        vertical-align: top;\n",
       "    }\n",
       "\n",
       "    .dataframe thead th {\n",
       "        text-align: right;\n",
       "    }\n",
       "</style>\n",
       "<table border=\"1\" class=\"dataframe\">\n",
       "  <thead>\n",
       "    <tr style=\"text-align: right;\">\n",
       "      <th></th>\n",
       "      <th>longitude</th>\n",
       "      <th>latitude</th>\n",
       "      <th>housing_median_age</th>\n",
       "      <th>total_rooms</th>\n",
       "      <th>total_bedrooms</th>\n",
       "      <th>population</th>\n",
       "      <th>households</th>\n",
       "      <th>median_income</th>\n",
       "      <th>median_house_value</th>\n",
       "    </tr>\n",
       "  </thead>\n",
       "  <tbody>\n",
       "    <tr>\n",
       "      <th>0</th>\n",
       "      <td>-119.562108</td>\n",
       "      <td>35.625225</td>\n",
       "      <td>28.589353</td>\n",
       "      <td>2643.664412</td>\n",
       "      <td>539.410824</td>\n",
       "      <td>1429.573941</td>\n",
       "      <td>501.221941</td>\n",
       "      <td>3.883578</td>\n",
       "      <td>207300.912353</td>\n",
       "    </tr>\n",
       "  </tbody>\n",
       "</table>\n",
       "</div>"
      ],
      "text/plain": [
       "    longitude   latitude  housing_median_age  total_rooms  total_bedrooms  \\\n",
       "0 -119.562108  35.625225           28.589353  2643.664412      539.410824   \n",
       "\n",
       "    population  households  median_income  median_house_value  \n",
       "0  1429.573941  501.221941       3.883578       207300.912353  "
      ]
     },
     "execution_count": 17,
     "metadata": {},
     "output_type": "execute_result"
    }
   ],
   "source": [
    "average = [sum(column)/count for column in data]\n",
    "pd.DataFrame([average], columns=headers)"
   ]
  },
  {
   "cell_type": "markdown",
   "metadata": {},
   "source": [
    "Максимальные и минимальные значения"
   ]
  },
  {
   "cell_type": "code",
   "execution_count": 18,
   "metadata": {},
   "outputs": [
    {
     "data": {
      "text/html": [
       "<div>\n",
       "<style scoped>\n",
       "    .dataframe tbody tr th:only-of-type {\n",
       "        vertical-align: middle;\n",
       "    }\n",
       "\n",
       "    .dataframe tbody tr th {\n",
       "        vertical-align: top;\n",
       "    }\n",
       "\n",
       "    .dataframe thead th {\n",
       "        text-align: right;\n",
       "    }\n",
       "</style>\n",
       "<table border=\"1\" class=\"dataframe\">\n",
       "  <thead>\n",
       "    <tr style=\"text-align: right;\">\n",
       "      <th></th>\n",
       "      <th>longitude</th>\n",
       "      <th>latitude</th>\n",
       "      <th>housing_median_age</th>\n",
       "      <th>total_rooms</th>\n",
       "      <th>total_bedrooms</th>\n",
       "      <th>population</th>\n",
       "      <th>households</th>\n",
       "      <th>median_income</th>\n",
       "      <th>median_house_value</th>\n",
       "    </tr>\n",
       "  </thead>\n",
       "  <tbody>\n",
       "    <tr>\n",
       "      <th>min</th>\n",
       "      <td>-124.35</td>\n",
       "      <td>32.54</td>\n",
       "      <td>1.0</td>\n",
       "      <td>2.0</td>\n",
       "      <td>1.0</td>\n",
       "      <td>3.0</td>\n",
       "      <td>1.0</td>\n",
       "      <td>0.4999</td>\n",
       "      <td>14999.0</td>\n",
       "    </tr>\n",
       "    <tr>\n",
       "      <th>max</th>\n",
       "      <td>-114.31</td>\n",
       "      <td>41.95</td>\n",
       "      <td>52.0</td>\n",
       "      <td>37937.0</td>\n",
       "      <td>6445.0</td>\n",
       "      <td>35682.0</td>\n",
       "      <td>6082.0</td>\n",
       "      <td>15.0001</td>\n",
       "      <td>500001.0</td>\n",
       "    </tr>\n",
       "  </tbody>\n",
       "</table>\n",
       "</div>"
      ],
      "text/plain": [
       "     longitude  latitude  housing_median_age  total_rooms  total_bedrooms  \\\n",
       "min    -124.35     32.54                 1.0          2.0             1.0   \n",
       "max    -114.31     41.95                52.0      37937.0          6445.0   \n",
       "\n",
       "     population  households  median_income  median_house_value  \n",
       "min         3.0         1.0         0.4999             14999.0  \n",
       "max     35682.0      6082.0        15.0001            500001.0  "
      ]
     },
     "execution_count": 18,
     "metadata": {},
     "output_type": "execute_result"
    }
   ],
   "source": [
    "minValues = [min(column) for column in data]\n",
    "maxValues = [max(column) for column in data]\n",
    "            \n",
    "pd.DataFrame([minValues, maxValues], columns=headers, index=[\"min\", \"max\"])"
   ]
  },
  {
   "cell_type": "markdown",
   "metadata": {},
   "source": [
    "Среднеквадратические отклонения:"
   ]
  },
  {
   "cell_type": "code",
   "execution_count": 19,
   "metadata": {},
   "outputs": [
    {
     "data": {
      "text/html": [
       "<div>\n",
       "<style scoped>\n",
       "    .dataframe tbody tr th:only-of-type {\n",
       "        vertical-align: middle;\n",
       "    }\n",
       "\n",
       "    .dataframe tbody tr th {\n",
       "        vertical-align: top;\n",
       "    }\n",
       "\n",
       "    .dataframe thead th {\n",
       "        text-align: right;\n",
       "    }\n",
       "</style>\n",
       "<table border=\"1\" class=\"dataframe\">\n",
       "  <thead>\n",
       "    <tr style=\"text-align: right;\">\n",
       "      <th></th>\n",
       "      <th>longitude</th>\n",
       "      <th>latitude</th>\n",
       "      <th>housing_median_age</th>\n",
       "      <th>total_rooms</th>\n",
       "      <th>total_bedrooms</th>\n",
       "      <th>population</th>\n",
       "      <th>households</th>\n",
       "      <th>median_income</th>\n",
       "      <th>median_house_value</th>\n",
       "    </tr>\n",
       "  </thead>\n",
       "  <tbody>\n",
       "    <tr>\n",
       "      <th>0</th>\n",
       "      <td>2.005107</td>\n",
       "      <td>2.137277</td>\n",
       "      <td>12.586567</td>\n",
       "      <td>2179.882954</td>\n",
       "      <td>421.487054</td>\n",
       "      <td>1147.819198</td>\n",
       "      <td>384.509531</td>\n",
       "      <td>1.9081</td>\n",
       "      <td>115980.35305</td>\n",
       "    </tr>\n",
       "  </tbody>\n",
       "</table>\n",
       "</div>"
      ],
      "text/plain": [
       "   longitude  latitude  housing_median_age  total_rooms  total_bedrooms  \\\n",
       "0   2.005107  2.137277           12.586567  2179.882954      421.487054   \n",
       "\n",
       "    population  households  median_income  median_house_value  \n",
       "0  1147.819198  384.509531         1.9081        115980.35305  "
      ]
     },
     "execution_count": 19,
     "metadata": {},
     "output_type": "execute_result"
    }
   ],
   "source": [
    "sd = []\n",
    "for i in range(len(data)):\n",
    "    column = data[i]\n",
    "    avg = average[i]\n",
    "    variance = sum((el - avg)**2 for el in column) / count # Дисперсия\n",
    "    sd.append(variance**0.5)\n",
    "    \n",
    "pd.DataFrame([sd], columns=headers)"
   ]
  },
  {
   "cell_type": "markdown",
   "metadata": {},
   "source": [
    "Визуализация значений:"
   ]
  },
  {
   "cell_type": "code",
   "execution_count": 20,
   "metadata": {},
   "outputs": [
    {
     "data": {
      "image/png": "[encoded data removed]",
      "text/plain": [
       "<Figure size 3000x480 with 9 Axes>"
      ]
     },
     "metadata": {},
     "output_type": "display_data"
    }
   ],
   "source": [
    "import matplotlib.pyplot as plt\n",
    "\n",
    "plt.figure().set_figwidth(30)\n",
    "\n",
    "for i in range(9):\n",
    "    plt.subplot(1,9,i+1) \n",
    "    plt.hist(data[i], bins=20)\n",
    "    plt.axvline(average[i], color='red', linestyle='dashed')\n",
    "    plt.xlabel(data[0][i])\n",
    "\n",
    "plt.show()"
   ]
  },
  {
   "cell_type": "code",
   "execution_count": 37,
   "metadata": {},
   "outputs": [
    {
     "data": {
      "text/html": [
       "<div>\n",
       "<style scoped>\n",
       "    .dataframe tbody tr th:only-of-type {\n",
       "        vertical-align: middle;\n",
       "    }\n",
       "\n",
       "    .dataframe tbody tr th {\n",
       "        vertical-align: top;\n",
       "    }\n",
       "\n",
       "    .dataframe thead th {\n",
       "        text-align: right;\n",
       "    }\n",
       "</style>\n",
       "<table border=\"1\" class=\"dataframe\">\n",
       "  <thead>\n",
       "    <tr style=\"text-align: right;\">\n",
       "      <th></th>\n",
       "      <th>longitude</th>\n",
       "      <th>latitude</th>\n",
       "      <th>housing_median_age</th>\n",
       "      <th>total_rooms</th>\n",
       "      <th>total_bedrooms</th>\n",
       "      <th>population</th>\n",
       "      <th>households</th>\n",
       "      <th>median_income</th>\n",
       "      <th>median_house_value</th>\n",
       "    </tr>\n",
       "  </thead>\n",
       "  <tbody>\n",
       "    <tr>\n",
       "      <th>Q1</th>\n",
       "      <td>-118.00</td>\n",
       "      <td>37.72</td>\n",
       "      <td>37.0</td>\n",
       "      <td>3152.0</td>\n",
       "      <td>649.0</td>\n",
       "      <td>1721.0</td>\n",
       "      <td>606.0</td>\n",
       "      <td>4.7679</td>\n",
       "      <td>265000.0</td>\n",
       "    </tr>\n",
       "    <tr>\n",
       "      <th>Q2</th>\n",
       "      <td>-118.49</td>\n",
       "      <td>34.25</td>\n",
       "      <td>29.0</td>\n",
       "      <td>2127.0</td>\n",
       "      <td>434.0</td>\n",
       "      <td>1167.0</td>\n",
       "      <td>409.0</td>\n",
       "      <td>3.5446</td>\n",
       "      <td>180400.0</td>\n",
       "    </tr>\n",
       "    <tr>\n",
       "      <th>Q3</th>\n",
       "      <td>-121.79</td>\n",
       "      <td>33.93</td>\n",
       "      <td>18.0</td>\n",
       "      <td>1462.0</td>\n",
       "      <td>297.0</td>\n",
       "      <td>790.0</td>\n",
       "      <td>282.0</td>\n",
       "      <td>2.5664</td>\n",
       "      <td>119400.0</td>\n",
       "    </tr>\n",
       "  </tbody>\n",
       "</table>\n",
       "</div>"
      ],
      "text/plain": [
       "    longitude  latitude  housing_median_age  total_rooms  total_bedrooms  \\\n",
       "Q1    -118.00     37.72                37.0       3152.0           649.0   \n",
       "Q2    -118.49     34.25                29.0       2127.0           434.0   \n",
       "Q3    -121.79     33.93                18.0       1462.0           297.0   \n",
       "\n",
       "    population  households  median_income  median_house_value  \n",
       "Q1      1721.0       606.0         4.7679            265000.0  \n",
       "Q2      1167.0       409.0         3.5446            180400.0  \n",
       "Q3       790.0       282.0         2.5664            119400.0  "
      ]
     },
     "execution_count": 37,
     "metadata": {},
     "output_type": "execute_result"
    }
   ],
   "source": [
    "quantiles = []\n",
    "for i in range(9):\n",
    "    sorted_sample = sorted(data[i])\n",
    "    q1 = sorted_sample[count//4]\n",
    "    q2 = sorted_sample[count//2]\n",
    "    q3 = sorted_sample[count*3//4]\n",
    "    quantiles.append([q3, q2, q1])\n",
    "\n",
    "pd.DataFrame(np.transpose(quantiles), columns=headers, index=[\"Q1\", \"Q2\", \"Q3\"])"
   ]
  },
  {
   "cell_type": "markdown",
   "metadata": {},
   "source": [
    "- Проведите предварительную обработку данных, включая обработку отсутствующих значений, кодирование категориальных признаков и нормировка.\n",
    "  - Пропусков данных в файле нет\n",
    "  - Кодирование категориальных признаков не требуется, так как все данные уже числовые\n",
    "  - проведем min/max scaling (приведя все значения в диапазон от 0 до 1). Это нужно для того, чтобы разные данные в равной степени влияли на обучение модели"
   ]
  },
  {
   "cell_type": "markdown",
   "metadata": {},
   "source": [
    "Min/max scaling: \n",
    "$$x_{norm}=\\frac{x-x_{min}}{x_{max}-x_{min}}$$"
   ]
  },
  {
   "cell_type": "code",
   "execution_count": 22,
   "metadata": {},
   "outputs": [
    {
     "data": {
      "image/png": "[encoded data removed]",
      "text/plain": [
       "<Figure size 3000x480 with 9 Axes>"
      ]
     },
     "metadata": {},
     "output_type": "display_data"
    }
   ],
   "source": [
    "enhancedData = [[99] * count for _ in range(len(data))] \n",
    "\n",
    "for i in range(len(data)):\n",
    "    column = data[i]\n",
    "    minVal = minValues[i]\n",
    "    maxVal = maxValues[i]\n",
    "    for j in range(len(data[i])):\n",
    "        enhancedData[i][j] = (data[i][j] - minVal) / (maxVal - minVal)\n",
    "\n",
    "plt.figure().set_figwidth(30)\n",
    "\n",
    "for i in range(9):\n",
    "    plt.subplot(1,9,i+1) \n",
    "    plt.hist(enhancedData[i], bins=20)\n",
    "    plt.xlabel(data[0][i])\n",
    "    \n",
    "plt.show()"
   ]
  },
  {
   "cell_type": "markdown",
   "metadata": {},
   "source": [
    "- Разделите данные на обучающий и тестовый наборы данных.\n",
    "  - разделим в отношении 70 на 30"
   ]
  },
  {
   "cell_type": "code",
   "execution_count": 23,
   "metadata": {},
   "outputs": [],
   "source": [
    "testData = [column[:int(count*0.3)] for column in enhancedData]\n",
    "trainData = [column[int(count*0.3):] for column in enhancedData]"
   ]
  },
  {
   "cell_type": "markdown",
   "metadata": {},
   "source": [
    "- Реализуйте линейную регрессию с использованием метода наименьших квадратов без использования сторонних библиотек, кроме NumPy и Pandas. Использовать минимизацию суммы квадратов разностей между фактическими и предсказанными значениями для нахождения оптимальных коэффициентов."
   ]
  },
  {
   "cell_type": "code",
   "execution_count": null,
   "metadata": {},
   "outputs": [],
   "source": [
    "# X - матрица значений независимых переменных (матрица признаков)\n",
    "# Y - матрица значений зависимой переменной\n",
    "# return - массив вида [a, b1, b2, ... , bn], где n - число независимых переменных\n",
    "def getModel(X, Y):\n",
    "    Y = np.array(Y)\n",
    "    X = np.array(X)\n",
    "    X = np.hstack(([[1]]*len(X), X)) # add column of ones\n",
    "    Xt = X.transpose()\n",
    "    XtX = np.matmul(Xt, X)\n",
    "    XtX_inv = np.linalg.inv(XtX)\n",
    "    B = np.matmul(np.matmul(XtX_inv, Xt), Y)\n",
    "    return B\n"
   ]
  },
  {
   "cell_type": "markdown",
   "metadata": {},
   "source": [
    "данная функция вычисляет коэффициенты модели `[a, b1, b2, ... , bn]` по следующей формуле:\n",
    "$$ B = (X^TX)^{-1}X^TY $$"
   ]
  },
  {
   "cell_type": "markdown",
   "metadata": {},
   "source": [
    "- Постройте три модели с различными наборами признаков."
   ]
  },
  {
   "cell_type": "code",
   "execution_count": 25,
   "metadata": {},
   "outputs": [
    {
     "name": "stdout",
     "output_type": "stream",
     "text": [
      "0 - longitude\n",
      "1 - latitude\n",
      "2 - housing_median_age\n",
      "3 - total_rooms\n",
      "4 - total_bedrooms\n",
      "5 - population\n",
      "6 - households\n",
      "7 - median_income\n",
      "8 - median_house_value\n"
     ]
    }
   ],
   "source": [
    "# Индексы столбцов\n",
    "for i in range(len(headers)):\n",
    "    print(f\"{i} - {headers[i]}\")"
   ]
  },
  {
   "cell_type": "markdown",
   "metadata": {},
   "source": [
    "Построим модели с такими зависимостями:\n",
    "1) `median_house_value от (longitude, latitude, housing_median_age, total_rooms, total_bedrooms, population, households, median_income)`\n",
    "2) `median_house_value от (longitude, latitude, total_bedrooms, population, median_income)`\n",
    "3) `total_rooms(longitude, latitude, housing_median_age, population)`"
   ]
  },
  {
   "cell_type": "code",
   "execution_count": null,
   "metadata": {},
   "outputs": [
    {
     "data": {
      "text/html": [
       "<div>\n",
       "<style scoped>\n",
       "    .dataframe tbody tr th:only-of-type {\n",
       "        vertical-align: middle;\n",
       "    }\n",
       "\n",
       "    .dataframe tbody tr th {\n",
       "        vertical-align: top;\n",
       "    }\n",
       "\n",
       "    .dataframe thead th {\n",
       "        text-align: right;\n",
       "    }\n",
       "</style>\n",
       "<table border=\"1\" class=\"dataframe\">\n",
       "  <thead>\n",
       "    <tr style=\"text-align: right;\">\n",
       "      <th></th>\n",
       "      <th>0</th>\n",
       "    </tr>\n",
       "  </thead>\n",
       "  <tbody>\n",
       "    <tr>\n",
       "      <th>a</th>\n",
       "      <td>0.723793</td>\n",
       "    </tr>\n",
       "    <tr>\n",
       "      <th>longitude</th>\n",
       "      <td>-0.896348</td>\n",
       "    </tr>\n",
       "    <tr>\n",
       "      <th>latitude</th>\n",
       "      <td>-0.833563</td>\n",
       "    </tr>\n",
       "    <tr>\n",
       "      <th>housing_median_age</th>\n",
       "      <td>0.128444</td>\n",
       "    </tr>\n",
       "    <tr>\n",
       "      <th>total_rooms</th>\n",
       "      <td>-0.666614</td>\n",
       "    </tr>\n",
       "    <tr>\n",
       "      <th>total_bedrooms</th>\n",
       "      <td>1.562449</td>\n",
       "    </tr>\n",
       "    <tr>\n",
       "      <th>population</th>\n",
       "      <td>-2.679153</td>\n",
       "    </tr>\n",
       "    <tr>\n",
       "      <th>households</th>\n",
       "      <td>0.533849</td>\n",
       "    </tr>\n",
       "    <tr>\n",
       "      <th>median_income</th>\n",
       "      <td>1.218409</td>\n",
       "    </tr>\n",
       "  </tbody>\n",
       "</table>\n",
       "</div>"
      ],
      "text/plain": [
       "                           0\n",
       "a                   0.723793\n",
       "longitude          -0.896348\n",
       "latitude           -0.833563\n",
       "housing_median_age  0.128444\n",
       "total_rooms        -0.666614\n",
       "total_bedrooms      1.562449\n",
       "population         -2.679153\n",
       "households          0.533849\n",
       "median_income       1.218409"
      ]
     },
     "execution_count": 26,
     "metadata": {},
     "output_type": "execute_result"
    }
   ],
   "source": [
    "# Model 1\n",
    "learnDataModel_1 = np.transpose(trainData[0:8]) # берем нужные столбцы\n",
    "parameters_1 = ['a'] + headers[0:8]\n",
    "\n",
    "model_1 = getModel(learnDataModel_1, trainData[8])\n",
    "\n",
    "pd.DataFrame(model_1, index=parameters_1)"
   ]
  },
  {
   "cell_type": "markdown",
   "metadata": {},
   "source": [
    "- Для каждой модели проведите оценку производительности, используя метрику коэффициент детерминации, чтобы измерить, насколько хорошо модель соответствует данным"
   ]
  },
  {
   "cell_type": "markdown",
   "metadata": {},
   "source": [
    "Коэффициент детерминации:\n",
    "$$ R^2= 1-\\frac{RSS}{TSS} $$\n",
    "Где:\n",
    "- RSS - сумма квадратов ошибок (ошибка - разница истинных и предсказанных значений)\n",
    "- TSS - общая сумма квадратов (отклонений истинных значений от среднего значения)\n",
    "$$ RSS=\\sum_{i=1}^n(\\hat{y_i}-y_i)^2 $$\n",
    "$$ TSS=\\sum_{i=1}^n(\\bar{y}-y_i)^2 $$\n",
    "Смысл:\n",
    "- $R^2=1$ означает, что модель идеально объясняет данные.\n",
    "- $R^2=0$ означает, что модель не объясняет данные лучше, чем простое среднее значение.\n",
    "- $0<R^2<1$ - означает, что модель частично объясняет вариативность данных.\n",
    "- $R^2<0$ - означает, что модель предсказывает хуже, чем простое среднее значение"
   ]
  },
  {
   "cell_type": "code",
   "execution_count": 27,
   "metadata": {},
   "outputs": [],
   "source": [
    "def predict(model, data):\n",
    "    value = model[0]\n",
    "    for i in range(1,len(model)):\n",
    "        value += model[i] * data[i-1]\n",
    "    return value\n"
   ]
  },
  {
   "cell_type": "code",
   "execution_count": 28,
   "metadata": {},
   "outputs": [
    {
     "name": "stdout",
     "output_type": "stream",
     "text": [
      "R^2 = 0.462552525523935\n"
     ]
    }
   ],
   "source": [
    "# Model 1\n",
    "testDataModel_1 = np.transpose(testData[0:8]) # берем нужные столбцы\n",
    "realValuesModel_1 = testData[8]\n",
    "\n",
    "rss = 0\n",
    "tss = 0\n",
    "avgValue = sum(realValuesModel_1) / len(realValuesModel_1)\n",
    "for i in range(len(testDataModel_1)):\n",
    "    value = predict(model_1, testDataModel_1[i])\n",
    "    rss += (value - realValuesModel_1[i])**2\n",
    "    tss += (value - avgValue)**2\n",
    "    \n",
    "print(f\"R^2 = {1-(rss/tss)}\")"
   ]
  },
  {
   "cell_type": "markdown",
   "metadata": {},
   "source": [
    "**Model 2**\n",
    "\n",
    "`median_house_value от (longitude, latitude, total_bedrooms, population, median_income)`\n"
   ]
  },
  {
   "cell_type": "code",
   "execution_count": null,
   "metadata": {},
   "outputs": [
    {
     "data": {
      "text/html": [
       "<div>\n",
       "<style scoped>\n",
       "    .dataframe tbody tr th:only-of-type {\n",
       "        vertical-align: middle;\n",
       "    }\n",
       "\n",
       "    .dataframe tbody tr th {\n",
       "        vertical-align: top;\n",
       "    }\n",
       "\n",
       "    .dataframe thead th {\n",
       "        text-align: right;\n",
       "    }\n",
       "</style>\n",
       "<table border=\"1\" class=\"dataframe\">\n",
       "  <thead>\n",
       "    <tr style=\"text-align: right;\">\n",
       "      <th></th>\n",
       "      <th>0</th>\n",
       "    </tr>\n",
       "  </thead>\n",
       "  <tbody>\n",
       "    <tr>\n",
       "      <th>a</th>\n",
       "      <td>0.973636</td>\n",
       "    </tr>\n",
       "    <tr>\n",
       "      <th>longitude</th>\n",
       "      <td>-1.080054</td>\n",
       "    </tr>\n",
       "    <tr>\n",
       "      <th>latitude</th>\n",
       "      <td>-0.995045</td>\n",
       "    </tr>\n",
       "    <tr>\n",
       "      <th>total_bedrooms</th>\n",
       "      <td>1.418437</td>\n",
       "    </tr>\n",
       "    <tr>\n",
       "      <th>population</th>\n",
       "      <td>-2.793356</td>\n",
       "    </tr>\n",
       "    <tr>\n",
       "      <th>median_income</th>\n",
       "      <td>1.108942</td>\n",
       "    </tr>\n",
       "  </tbody>\n",
       "</table>\n",
       "</div>"
      ],
      "text/plain": [
       "                       0\n",
       "a               0.973636\n",
       "longitude      -1.080054\n",
       "latitude       -0.995045\n",
       "total_bedrooms  1.418437\n",
       "population     -2.793356\n",
       "median_income   1.108942"
      ]
     },
     "execution_count": 40,
     "metadata": {},
     "output_type": "execute_result"
    }
   ],
   "source": [
    "# Model 2\n",
    "\n",
    "learnDataModel_2 = np.transpose([trainData[0], trainData[1], trainData[4], trainData[5], trainData[7]]) # берем нужные столбцы\n",
    "parameters_2 = ['a', headers[0], headers[1], headers[4], headers[5], headers[7]]\n",
    "\n",
    "model_2 = getModel(learnDataModel_2, trainData[8])\n",
    "\n",
    "pd.DataFrame(model_2, index=parameters_2)"
   ]
  },
  {
   "cell_type": "code",
   "execution_count": null,
   "metadata": {},
   "outputs": [
    {
     "name": "stdout",
     "output_type": "stream",
     "text": [
      "R^2 = 0.4345885885783779\n"
     ]
    }
   ],
   "source": [
    "# Model 2\n",
    "testDataModel_2 = np.transpose([testData[0], testData[1], testData[4], testData[5], testData[7]]) # берем нужные столбцы\n",
    "realValuesModel_2 = testData[8]\n",
    "\n",
    "rss = 0\n",
    "tss = 0\n",
    "avgValue = sum(realValuesModel_2) / len(realValuesModel_2)\n",
    "for i in range(len(testDataModel_2)):\n",
    "    value = predict(model_2, testDataModel_2[i])\n",
    "    rss += (value - realValuesModel_2[i])**2\n",
    "    tss += (value - avgValue)**2\n",
    "    \n",
    "print(f\"R^2 = {1-(rss/tss)}\")"
   ]
  },
  {
   "cell_type": "markdown",
   "metadata": {},
   "source": [
    "**Model 3**\n",
    "\n",
    "`total_rooms(longitude, latitude, housing_median_age, population)`"
   ]
  },
  {
   "cell_type": "code",
   "execution_count": 52,
   "metadata": {},
   "outputs": [
    {
     "data": {
      "text/html": [
       "<div>\n",
       "<style scoped>\n",
       "    .dataframe tbody tr th:only-of-type {\n",
       "        vertical-align: middle;\n",
       "    }\n",
       "\n",
       "    .dataframe tbody tr th {\n",
       "        vertical-align: top;\n",
       "    }\n",
       "\n",
       "    .dataframe thead th {\n",
       "        text-align: right;\n",
       "    }\n",
       "</style>\n",
       "<table border=\"1\" class=\"dataframe\">\n",
       "  <thead>\n",
       "    <tr style=\"text-align: right;\">\n",
       "      <th></th>\n",
       "      <th>0</th>\n",
       "    </tr>\n",
       "  </thead>\n",
       "  <tbody>\n",
       "    <tr>\n",
       "      <th>a</th>\n",
       "      <td>0.020490</td>\n",
       "    </tr>\n",
       "    <tr>\n",
       "      <th>longitude</th>\n",
       "      <td>0.000346</td>\n",
       "    </tr>\n",
       "    <tr>\n",
       "      <th>latitude</th>\n",
       "      <td>0.014461</td>\n",
       "    </tr>\n",
       "    <tr>\n",
       "      <th>housing_median_age</th>\n",
       "      <td>-0.027285</td>\n",
       "    </tr>\n",
       "    <tr>\n",
       "      <th>population</th>\n",
       "      <td>1.476002</td>\n",
       "    </tr>\n",
       "  </tbody>\n",
       "</table>\n",
       "</div>"
      ],
      "text/plain": [
       "                           0\n",
       "a                   0.020490\n",
       "longitude           0.000346\n",
       "latitude            0.014461\n",
       "housing_median_age -0.027285\n",
       "population          1.476002"
      ]
     },
     "execution_count": 52,
     "metadata": {},
     "output_type": "execute_result"
    }
   ],
   "source": [
    "# Model 3\n",
    "\n",
    "learnDataModel_3 = np.transpose([trainData[0], trainData[1], trainData[2], trainData[5]]) # берем нужные столбцы\n",
    "parameters_3 = ['a', headers[0], headers[1], headers[2], headers[5]]\n",
    "\n",
    "model_3 = getModel(learnDataModel_3, trainData[3])\n",
    "\n",
    "pd.DataFrame(model_3, index=parameters_3)"
   ]
  },
  {
   "cell_type": "code",
   "execution_count": null,
   "metadata": {},
   "outputs": [
    {
     "name": "stdout",
     "output_type": "stream",
     "text": [
      "R^2 = 0.7050724965416072\n"
     ]
    }
   ],
   "source": [
    "# Model 3\n",
    "\n",
    "testDataModel_3 = np.transpose([testData[0], testData[1], testData[2], testData[5]]) # берем нужные столбцы\n",
    "realValuesModel_3 = testData[3]\n",
    "\n",
    "rss = 0\n",
    "tss = 0\n",
    "avgValue = sum(realValuesModel_3) / len(realValuesModel_3)\n",
    "for i in range(len(testDataModel_3)):\n",
    "    value = predict(model_3, testDataModel_3[i])\n",
    "    rss += (value - realValuesModel_3[i])**2\n",
    "    tss += (value - avgValue)**2\n",
    "    \n",
    "print(f\"R^2 = {1-(rss/tss)}\")"
   ]
  }
 ],
 "metadata": {
  "kernelspec": {
   "display_name": "Python 3",
   "language": "python",
   "name": "python3"
  },
  "language_info": {
   "codemirror_mode": {
    "name": "ipython",
    "version": 3
   },
   "file_extension": ".py",
   "mimetype": "text/x-python",
   "name": "python",
   "nbconvert_exporter": "python",
   "pygments_lexer": "ipython3",
   "version": "3.12.1"
  }
 },
 "nbformat": 4,
 "nbformat_minor": 2
}
